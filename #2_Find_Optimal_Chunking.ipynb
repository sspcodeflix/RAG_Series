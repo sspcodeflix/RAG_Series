{
  "nbformat": 4,
  "nbformat_minor": 0,
  "metadata": {
    "colab": {
      "provenance": []
    },
    "kernelspec": {
      "name": "python3",
      "display_name": "Python 3"
    },
    "language_info": {
      "name": "python"
    }
  },
  "cells": [
    {
      "cell_type": "code",
      "source": [
        "import warnings\n",
        "warnings.filterwarnings(\"ignore\")"
      ],
      "metadata": {
        "id": "LV_CR2gh2HbK"
      },
      "execution_count": 1,
      "outputs": []
    },
    {
      "cell_type": "markdown",
      "source": [
        "## 1. Install required python libraries"
      ],
      "metadata": {
        "id": "ul2AOPqGyS-T"
      }
    },
    {
      "cell_type": "code",
      "execution_count": 2,
      "metadata": {
        "id": "saXLiSVsHrgV",
        "colab": {
          "base_uri": "https://localhost:8080/"
        },
        "outputId": "fe979c3c-1957-4978-8edb-fac9403278fc"
      },
      "outputs": [
        {
          "output_type": "stream",
          "name": "stdout",
          "text": [
            "\u001b[2K   \u001b[90m━━━━━━━━━━━━━━━━━━━━━━━━━━━━━━━━━━━━━━━━\u001b[0m \u001b[32m7.7/7.7 MB\u001b[0m \u001b[31m37.4 MB/s\u001b[0m eta \u001b[36m0:00:00\u001b[0m\n",
            "\u001b[2K   \u001b[90m━━━━━━━━━━━━━━━━━━━━━━━━━━━━━━━━━━━━━━━━\u001b[0m \u001b[32m720.4/720.4 kB\u001b[0m \u001b[31m28.7 MB/s\u001b[0m eta \u001b[36m0:00:00\u001b[0m\n",
            "\u001b[2K   \u001b[90m━━━━━━━━━━━━━━━━━━━━━━━━━━━━━━━━━━━━━━━━\u001b[0m \u001b[32m40.8/40.8 kB\u001b[0m \u001b[31m3.1 MB/s\u001b[0m eta \u001b[36m0:00:00\u001b[0m\n",
            "\u001b[2K   \u001b[90m━━━━━━━━━━━━━━━━━━━━━━━━━━━━━━━━━━━━━━━━\u001b[0m \u001b[32m265.9/265.9 kB\u001b[0m \u001b[31m15.8 MB/s\u001b[0m eta \u001b[36m0:00:00\u001b[0m\n",
            "\u001b[2K   \u001b[90m━━━━━━━━━━━━━━━━━━━━━━━━━━━━━━━━━━━━━━━━\u001b[0m \u001b[32m303.4/303.4 kB\u001b[0m \u001b[31m20.4 MB/s\u001b[0m eta \u001b[36m0:00:00\u001b[0m\n",
            "\u001b[2K   \u001b[90m━━━━━━━━━━━━━━━━━━━━━━━━━━━━━━━━━━━━━━━━\u001b[0m \u001b[32m50.9/50.9 kB\u001b[0m \u001b[31m3.4 MB/s\u001b[0m eta \u001b[36m0:00:00\u001b[0m\n",
            "\u001b[2K   \u001b[90m━━━━━━━━━━━━━━━━━━━━━━━━━━━━━━━━━━━━━━━━\u001b[0m \u001b[32m129.3/129.3 kB\u001b[0m \u001b[31m9.6 MB/s\u001b[0m eta \u001b[36m0:00:00\u001b[0m\n",
            "\u001b[?25h"
          ]
        }
      ],
      "source": [
        "!pip install -q llama-index openai python-dotenv"
      ]
    },
    {
      "cell_type": "markdown",
      "source": [
        "## 2. Import Packages and set the environment vars"
      ],
      "metadata": {
        "id": "LZyHwlj0ya3x"
      }
    },
    {
      "cell_type": "code",
      "source": [
        "import nest_asyncio\n",
        "import random\n",
        "import openai\n",
        "import time\n",
        "import os\n",
        "from llama_index.core import VectorStoreIndex, SimpleDirectoryReader\n",
        "from llama_index.core.prompts import PromptTemplate\n",
        "from llama_index.core.evaluation import (\n",
        "    DatasetGenerator,\n",
        "    FaithfulnessEvaluator,\n",
        "    RelevancyEvaluator\n",
        ")\n",
        "from llama_index.llms.openai import OpenAI\n",
        "from llama_index.core import Settings\n",
        "from google.colab import userdata\n",
        "\n",
        "nest_asyncio.apply()\n",
        "openai.api_key = userdata.get('OPENAI_API_KEY') # You can set your keys directly"
      ],
      "metadata": {
        "id": "6f1A3MM3JIOS"
      },
      "execution_count": 3,
      "outputs": []
    },
    {
      "cell_type": "markdown",
      "source": [
        "## 3. Open up an interface for uploading your internal documents"
      ],
      "metadata": {
        "id": "R8I69LXvygnT"
      }
    },
    {
      "cell_type": "code",
      "source": [
        "import os\n",
        "from google.colab import files\n",
        "uploaded = files.upload()\n",
        "os.makedirs(\"/content/data\", exist_ok=True)\n",
        "\n",
        "# Move uploaded file to data folder\n",
        "for fname in uploaded.keys():\n",
        "    os.rename(fname, f\"/content/data/{fname}\")"
      ],
      "metadata": {
        "id": "qOfetA37JnHO",
        "colab": {
          "base_uri": "https://localhost:8080/",
          "height": 73
        },
        "outputId": "3fa5b127-c15e-4efd-c64f-35fc6dc9863f"
      },
      "execution_count": 4,
      "outputs": [
        {
          "output_type": "display_data",
          "data": {
            "text/plain": [
              "<IPython.core.display.HTML object>"
            ],
            "text/html": [
              "\n",
              "     <input type=\"file\" id=\"files-d9e6f1f2-3959-4501-8984-1bb8f4380402\" name=\"files[]\" multiple disabled\n",
              "        style=\"border:none\" />\n",
              "     <output id=\"result-d9e6f1f2-3959-4501-8984-1bb8f4380402\">\n",
              "      Upload widget is only available when the cell has been executed in the\n",
              "      current browser session. Please rerun this cell to enable.\n",
              "      </output>\n",
              "      <script>// Copyright 2017 Google LLC\n",
              "//\n",
              "// Licensed under the Apache License, Version 2.0 (the \"License\");\n",
              "// you may not use this file except in compliance with the License.\n",
              "// You may obtain a copy of the License at\n",
              "//\n",
              "//      http://www.apache.org/licenses/LICENSE-2.0\n",
              "//\n",
              "// Unless required by applicable law or agreed to in writing, software\n",
              "// distributed under the License is distributed on an \"AS IS\" BASIS,\n",
              "// WITHOUT WARRANTIES OR CONDITIONS OF ANY KIND, either express or implied.\n",
              "// See the License for the specific language governing permissions and\n",
              "// limitations under the License.\n",
              "\n",
              "/**\n",
              " * @fileoverview Helpers for google.colab Python module.\n",
              " */\n",
              "(function(scope) {\n",
              "function span(text, styleAttributes = {}) {\n",
              "  const element = document.createElement('span');\n",
              "  element.textContent = text;\n",
              "  for (const key of Object.keys(styleAttributes)) {\n",
              "    element.style[key] = styleAttributes[key];\n",
              "  }\n",
              "  return element;\n",
              "}\n",
              "\n",
              "// Max number of bytes which will be uploaded at a time.\n",
              "const MAX_PAYLOAD_SIZE = 100 * 1024;\n",
              "\n",
              "function _uploadFiles(inputId, outputId) {\n",
              "  const steps = uploadFilesStep(inputId, outputId);\n",
              "  const outputElement = document.getElementById(outputId);\n",
              "  // Cache steps on the outputElement to make it available for the next call\n",
              "  // to uploadFilesContinue from Python.\n",
              "  outputElement.steps = steps;\n",
              "\n",
              "  return _uploadFilesContinue(outputId);\n",
              "}\n",
              "\n",
              "// This is roughly an async generator (not supported in the browser yet),\n",
              "// where there are multiple asynchronous steps and the Python side is going\n",
              "// to poll for completion of each step.\n",
              "// This uses a Promise to block the python side on completion of each step,\n",
              "// then passes the result of the previous step as the input to the next step.\n",
              "function _uploadFilesContinue(outputId) {\n",
              "  const outputElement = document.getElementById(outputId);\n",
              "  const steps = outputElement.steps;\n",
              "\n",
              "  const next = steps.next(outputElement.lastPromiseValue);\n",
              "  return Promise.resolve(next.value.promise).then((value) => {\n",
              "    // Cache the last promise value to make it available to the next\n",
              "    // step of the generator.\n",
              "    outputElement.lastPromiseValue = value;\n",
              "    return next.value.response;\n",
              "  });\n",
              "}\n",
              "\n",
              "/**\n",
              " * Generator function which is called between each async step of the upload\n",
              " * process.\n",
              " * @param {string} inputId Element ID of the input file picker element.\n",
              " * @param {string} outputId Element ID of the output display.\n",
              " * @return {!Iterable<!Object>} Iterable of next steps.\n",
              " */\n",
              "function* uploadFilesStep(inputId, outputId) {\n",
              "  const inputElement = document.getElementById(inputId);\n",
              "  inputElement.disabled = false;\n",
              "\n",
              "  const outputElement = document.getElementById(outputId);\n",
              "  outputElement.innerHTML = '';\n",
              "\n",
              "  const pickedPromise = new Promise((resolve) => {\n",
              "    inputElement.addEventListener('change', (e) => {\n",
              "      resolve(e.target.files);\n",
              "    });\n",
              "  });\n",
              "\n",
              "  const cancel = document.createElement('button');\n",
              "  inputElement.parentElement.appendChild(cancel);\n",
              "  cancel.textContent = 'Cancel upload';\n",
              "  const cancelPromise = new Promise((resolve) => {\n",
              "    cancel.onclick = () => {\n",
              "      resolve(null);\n",
              "    };\n",
              "  });\n",
              "\n",
              "  // Wait for the user to pick the files.\n",
              "  const files = yield {\n",
              "    promise: Promise.race([pickedPromise, cancelPromise]),\n",
              "    response: {\n",
              "      action: 'starting',\n",
              "    }\n",
              "  };\n",
              "\n",
              "  cancel.remove();\n",
              "\n",
              "  // Disable the input element since further picks are not allowed.\n",
              "  inputElement.disabled = true;\n",
              "\n",
              "  if (!files) {\n",
              "    return {\n",
              "      response: {\n",
              "        action: 'complete',\n",
              "      }\n",
              "    };\n",
              "  }\n",
              "\n",
              "  for (const file of files) {\n",
              "    const li = document.createElement('li');\n",
              "    li.append(span(file.name, {fontWeight: 'bold'}));\n",
              "    li.append(span(\n",
              "        `(${file.type || 'n/a'}) - ${file.size} bytes, ` +\n",
              "        `last modified: ${\n",
              "            file.lastModifiedDate ? file.lastModifiedDate.toLocaleDateString() :\n",
              "                                    'n/a'} - `));\n",
              "    const percent = span('0% done');\n",
              "    li.appendChild(percent);\n",
              "\n",
              "    outputElement.appendChild(li);\n",
              "\n",
              "    const fileDataPromise = new Promise((resolve) => {\n",
              "      const reader = new FileReader();\n",
              "      reader.onload = (e) => {\n",
              "        resolve(e.target.result);\n",
              "      };\n",
              "      reader.readAsArrayBuffer(file);\n",
              "    });\n",
              "    // Wait for the data to be ready.\n",
              "    let fileData = yield {\n",
              "      promise: fileDataPromise,\n",
              "      response: {\n",
              "        action: 'continue',\n",
              "      }\n",
              "    };\n",
              "\n",
              "    // Use a chunked sending to avoid message size limits. See b/62115660.\n",
              "    let position = 0;\n",
              "    do {\n",
              "      const length = Math.min(fileData.byteLength - position, MAX_PAYLOAD_SIZE);\n",
              "      const chunk = new Uint8Array(fileData, position, length);\n",
              "      position += length;\n",
              "\n",
              "      const base64 = btoa(String.fromCharCode.apply(null, chunk));\n",
              "      yield {\n",
              "        response: {\n",
              "          action: 'append',\n",
              "          file: file.name,\n",
              "          data: base64,\n",
              "        },\n",
              "      };\n",
              "\n",
              "      let percentDone = fileData.byteLength === 0 ?\n",
              "          100 :\n",
              "          Math.round((position / fileData.byteLength) * 100);\n",
              "      percent.textContent = `${percentDone}% done`;\n",
              "\n",
              "    } while (position < fileData.byteLength);\n",
              "  }\n",
              "\n",
              "  // All done.\n",
              "  yield {\n",
              "    response: {\n",
              "      action: 'complete',\n",
              "    }\n",
              "  };\n",
              "}\n",
              "\n",
              "scope.google = scope.google || {};\n",
              "scope.google.colab = scope.google.colab || {};\n",
              "scope.google.colab._files = {\n",
              "  _uploadFiles,\n",
              "  _uploadFilesContinue,\n",
              "};\n",
              "})(self);\n",
              "</script> "
            ]
          },
          "metadata": {}
        },
        {
          "output_type": "stream",
          "name": "stdout",
          "text": [
            "Saving axis-credit-cards.pdf to axis-credit-cards.pdf\n"
          ]
        }
      ]
    },
    {
      "cell_type": "markdown",
      "source": [
        "## 4. Read and parse all documents"
      ],
      "metadata": {
        "id": "ZsVX6sKgywiF"
      }
    },
    {
      "cell_type": "code",
      "source": [
        "from llama_index.core import SimpleDirectoryReader\n",
        "data_dir = \"/content/data\"\n",
        "documents = SimpleDirectoryReader(data_dir).load_data()\n",
        "\n",
        "# Inspect the loaded document\n",
        "print(f\"Loaded {len(documents)} document(s)\")\n",
        "print(documents[0].text[:500])  # Print first 500 chars\n"
      ],
      "metadata": {
        "colab": {
          "base_uri": "https://localhost:8080/"
        },
        "id": "sJncOCxDvCts",
        "outputId": "f71809d0-6c12-44d7-f12e-871fb04ec58b"
      },
      "execution_count": 5,
      "outputs": [
        {
          "output_type": "stream",
          "name": "stdout",
          "text": [
            "Loaded 60 document(s)\n",
            "Axis Bank|Public \n",
            " \n",
            " \n",
            " \n",
            " \n",
            " \n",
            " \n",
            " \n",
            " \n",
            " \n",
            " \n",
            " \n",
            " \n",
            " \n",
            " \n",
            " \n",
            " \n",
            " \n",
            " \n",
            " \n",
            " \n",
            "MOST IMPORTANT \n",
            "TERMS AND CONDITIONS \n",
            " \n",
            " \n",
            " \n",
            " \n",
            " \n",
            " \n",
            " \n",
            " \n",
            " \n",
            " \n",
            " \n",
            " \n",
            " \n",
            " \n",
            " \n",
            " \n",
            " \n",
            " \n"
          ]
        }
      ]
    },
    {
      "cell_type": "markdown",
      "source": [
        "## 5. Create a dataset with factual questions for evaluation"
      ],
      "metadata": {
        "id": "9KR1cnHCzcsL"
      }
    },
    {
      "cell_type": "markdown",
      "source": [
        "#### Prepares 25 QA-style evaluation samples from the top 20 documents using LLM-generated questions"
      ],
      "metadata": {
        "id": "ymvo67n40gN0"
      }
    },
    {
      "cell_type": "code",
      "source": [
        "num_eval_questions = 25\n",
        "\n",
        "eval_documents = documents[0:20]\n",
        "data_generator = DatasetGenerator.from_documents(eval_documents)\n",
        "eval_questions = data_generator.generate_questions_from_nodes()\n",
        "k_eval_questions = random.sample(eval_questions, num_eval_questions)"
      ],
      "metadata": {
        "colab": {
          "base_uri": "https://localhost:8080/"
        },
        "id": "EQHMgb0t7_Jt",
        "outputId": "fbb40cd4-86ac-496c-ff42-1228329040bf"
      },
      "execution_count": 6,
      "outputs": [
        {
          "output_type": "stream",
          "name": "stderr",
          "text": [
            "/usr/local/lib/python3.11/dist-packages/llama_index/core/evaluation/dataset_generation.py:201: DeprecationWarning: Call to deprecated class DatasetGenerator. (Deprecated in favor of `RagDatasetGenerator` which should be used instead.)\n",
            "  return cls(\n",
            "/usr/local/lib/python3.11/dist-packages/llama_index/core/evaluation/dataset_generation.py:297: DeprecationWarning: Call to deprecated class QueryResponseDataset. (Deprecated in favor of `LabelledRagDataset` which should be used instead.)\n",
            "  return QueryResponseDataset(queries=queries, responses=responses_dict)\n"
          ]
        }
      ]
    },
    {
      "cell_type": "markdown",
      "source": [
        "## 6. Initialize GPT-4 Model and Faithfulness Evaluator"
      ],
      "metadata": {
        "id": "PAXCxVWXzmKA"
      }
    },
    {
      "cell_type": "markdown",
      "source": [
        "#### 6.1 Setup GPT4"
      ],
      "metadata": {
        "id": "HuPR1cWF2djW"
      }
    },
    {
      "cell_type": "code",
      "source": [
        "# We will use GPT-4 for evaluating the responses\n",
        "gpt4 = OpenAI(temperature=0, model=\"gpt-4o\")\n",
        "\n",
        "# Set appropriate settings for the LLM\n",
        "Settings.llm = gpt4\n",
        "\n",
        "# Define Faithfulness Evaluators which are based on GPT-4\n",
        "faithfulness_gpt4 = FaithfulnessEvaluator()"
      ],
      "metadata": {
        "id": "aqWEoSBe1Osw"
      },
      "execution_count": 7,
      "outputs": []
    },
    {
      "cell_type": "markdown",
      "source": [
        "#### 6.2 Setup Faithfulness Evaluator"
      ],
      "metadata": {
        "id": "D-dCZXom2iRW"
      }
    },
    {
      "cell_type": "code",
      "source": [
        "faithfulness_new_prompt_template = PromptTemplate(\n",
        "    \"\"\"Please tell if a given piece of information is directly supported by the context.\n",
        "        You need to answer with either YES or NO.\n",
        "        Answer YES if any part of the context explicitly supports the information,\n",
        "        even if most of the context is unrelated.\n",
        "        If the context does not explicitly support the information, answer NO.\n",
        "        Some examples are provided below.\n",
        "\n",
        "        Information: The annual fee for the Flipkart Axis Bank Credit Card is INR 500.\n",
        "        Context: FLIPKART AXIS BANK Credit Card: 500 Joining Fee, 500 Annual Fee\n",
        "        (Waived on spends of INR 3,50,000 in the preceding card anniversary year).\n",
        "        Answer: YES\n",
        "        Information: Axis Bank charges a joining fee of INR 1,000 for all credit cards.\n",
        "        Context: JOINING, ANNUAL and ADD-ON CARD FEE — Credit cards have varying fees.\n",
        "        For example, Flipkart Axis Bank Credit Card charges INR 500 as joining fee,\n",
        "        Axis Bank Infinite Credit Card charges Nil, and Magnus Credit Card charges INR 12,500.\n",
        "        Answer: NO\n",
        "\n",
        "        Information: Fuel surcharge refund is available for transactions\n",
        "        between INR 400 and INR 4,000 on certain cards.\n",
        "        Context: Fuel Transaction Surcharge: Refunded for fuel transactions\n",
        "        Between INR 400 to INR 4,000. Maximum benefits up to INR 400 per Statement Cycle;\n",
        "        applicable on certain cards like ACE, My Zone, and Airtel Axis Bank Credit Cards.\n",
        "        Answer: YES\n",
        "\n",
        "        Information: Magnus Credit Card offers unlimited domestic airport lounge access.\n",
        "        Context: The document includes detailed charges and fee structures,\n",
        "        but does not mention lounge access benefits of Magnus Credit Card.\n",
        "        Answer: NO\n",
        "\n",
        "        Information: The Axis Bank Reserve Credit Card annual fee is waived on spends\n",
        "        of INR 35,00,000 in the previous year.\n",
        "        Context: RESERVE Credit Card: 50,000 Annual Fee (Waived on eligible\n",
        "         spends of INR 35,00,000\n",
        "        in the preceding card anniversary year).\n",
        "        Answer: YES\n",
        "\n",
        "        Information: Axis Bank does not charge any foreign currency markup for the Magnus Credit Card.\n",
        "        Context: Foreign Currency Transaction Fee: 2% of the transaction value\n",
        "        for MAGNUS Credit Card and MAGNUS FOR BURGUNDY Credit Card.\n",
        "        Answer: NO\n",
        "\n",
        "        Information: {query_str}\n",
        "        Context: {context_str}\n",
        "Answer:\n",
        "\"\"\")\n",
        "# Update the prompts dictionary with the new prompt template\n",
        "faithfulness_gpt4.update_prompts({\"your_prompt_key\": faithfulness_new_prompt_template})\n",
        "\n",
        "# Define Relevancy Evaluators which are based on GPT-4\n",
        "relevancy_gpt4 = RelevancyEvaluator()"
      ],
      "metadata": {
        "id": "q9dq2-e08DN3"
      },
      "execution_count": 8,
      "outputs": []
    },
    {
      "cell_type": "markdown",
      "source": [
        "## 7. Build Query Engine for a given chink size"
      ],
      "metadata": {
        "id": "AW5PLw7E3PxV"
      }
    },
    {
      "cell_type": "code",
      "source": [
        "def build_query_engine(chunk_size, documents):\n",
        "    \"\"\"\n",
        "    Builds a vector-based query engine using a specified chunk size.\n",
        "\n",
        "    Parameters:\n",
        "    chunk_size (int): Size of text chunks to index.\n",
        "    documents (List[Document]): The documents to index.\n",
        "\n",
        "    Returns:\n",
        "    query_engine: A configured query engine ready to handle questions.\n",
        "    \"\"\"\n",
        "    llm = OpenAI(model=\"gpt-3.5-turbo\", temperature=0)\n",
        "    Settings.llm = llm\n",
        "    Settings.chunk_size = chunk_size\n",
        "    Settings.chunk_overlap = chunk_size // 5\n",
        "\n",
        "    vector_index = VectorStoreIndex.from_documents(documents)\n",
        "    query_engine = vector_index.as_query_engine(similarity_top_k=5)\n",
        "    return query_engine"
      ],
      "metadata": {
        "id": "bJF4MpaN2odl"
      },
      "execution_count": 9,
      "outputs": []
    },
    {
      "cell_type": "markdown",
      "source": [
        "## 8. Evaluate Response Time and Accuracy Using the Query Engine"
      ],
      "metadata": {
        "id": "xroMHRve3cnw"
      }
    },
    {
      "cell_type": "code",
      "source": [
        "def evaluate_response_time_and_accuracy(query_engine, eval_questions):\n",
        "    \"\"\"\n",
        "    Evaluate the average response time, faithfulness, and relevancy of responses\n",
        "    from a given query engine.\n",
        "\n",
        "    Parameters:\n",
        "    query_engine: A configured query engine.\n",
        "    eval_questions (List[str]): A list of questions to query the engine with.\n",
        "\n",
        "    Returns:\n",
        "    tuple: Average response time, average faithfulness score, average relevancy score.\n",
        "    \"\"\"\n",
        "    total_response_time = 0\n",
        "    total_faithfulness = 0\n",
        "    total_relevancy = 0\n",
        "    num_questions = len(eval_questions)\n",
        "\n",
        "    for question in eval_questions:\n",
        "        start_time = time.time()\n",
        "        response = query_engine.query(question)\n",
        "        elapsed_time = time.time() - start_time\n",
        "\n",
        "        faithfulness_result = faithfulness_gpt4.evaluate_response(response=response).passing\n",
        "        relevancy_result = relevancy_gpt4.evaluate_response(query=question, response=response).passing\n",
        "\n",
        "        total_response_time += elapsed_time\n",
        "        total_faithfulness += faithfulness_result\n",
        "        total_relevancy += relevancy_result\n",
        "\n",
        "    return (\n",
        "        total_response_time / num_questions,\n",
        "        total_faithfulness / num_questions,\n",
        "        total_relevancy / num_questions,\n",
        "    )"
      ],
      "metadata": {
        "id": "ZTk35Fq38PV9"
      },
      "execution_count": 10,
      "outputs": []
    },
    {
      "cell_type": "markdown",
      "source": [
        "## 9. Iterates over different chunk_sizes (128, 256, 512 tokens) and evaluates how each size affects the performance of a RAG system. For each chunk size, it:\n",
        "\n",
        "1. Builds a vector index using that chunk size\n",
        "2. Generates answers to a set of evaluation questions\n",
        "3. Measures:\n",
        "\n",
        "*   Average response time (in seconds)\n",
        "*   Average faithfulness score (how factually grounded the answers are)\n",
        "*   Average relevancy score (how relevant the answers are to the queries)\n",
        "\n",
        "\n",
        "\n",
        "\n",
        "\n"
      ],
      "metadata": {
        "id": "1zA2Tu6o3wjL"
      }
    },
    {
      "cell_type": "code",
      "source": [
        "chunk_sizes = [128, 256, 512]\n",
        "\n",
        "for chunk_size in chunk_sizes:\n",
        "    query_engine = build_query_engine(chunk_size, eval_documents)\n",
        "    avg_response_time, avg_faithfulness, avg_relevancy = evaluate_response_time_and_accuracy(query_engine, k_eval_questions)\n",
        "    print(f\"Chunk size {chunk_size} - Average Response time: {avg_response_time:.2f}s, \\\n",
        "    Average Faithfulness: {avg_faithfulness:.2f}, Average Relevancy: {avg_relevancy:.2f}\")"
      ],
      "metadata": {
        "colab": {
          "base_uri": "https://localhost:8080/"
        },
        "id": "lLFUcjoj8S11",
        "outputId": "98a694a9-b8c7-4b3f-f678-d737ddf58f84"
      },
      "execution_count": 11,
      "outputs": [
        {
          "output_type": "stream",
          "name": "stdout",
          "text": [
            "Chunk size 128 - Average Response time: 1.40s,     Average Faithfulness: 0.88, Average Relevancy: 0.80\n",
            "Chunk size 256 - Average Response time: 1.51s,     Average Faithfulness: 0.76, Average Relevancy: 0.72\n",
            "Chunk size 512 - Average Response time: 1.53s,     Average Faithfulness: 0.92, Average Relevancy: 0.88\n"
          ]
        }
      ]
    },
    {
      "cell_type": "markdown",
      "source": [
        "## Observations on Chunk Size Impact\n",
        "#### Larger chunks improve faithfulness\n",
        "→ Chunk size 512 produced the most factually grounded answers (0.88 faithfulness), likely because more contextual information was available per chunk.\n",
        "\n",
        "#### Relevancy peaked at a medium chunk size\n",
        "→ Chunk size 256 achieved the highest relevancy score (0.80), suggesting a balanced trade-off between context richness and noise.\n",
        "\n",
        "#### Response time increases slightly with chunk size\n",
        "→ From 1.32s (128) to 1.39s (512), the average response time shows a modest rise, which may scale further with larger inputs or more complex queries."
      ],
      "metadata": {
        "id": "CSXF3bi3_eU3"
      }
    }
  ]
}
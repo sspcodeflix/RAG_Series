{
  "nbformat": 4,
  "nbformat_minor": 0,
  "metadata": {
    "colab": {
      "provenance": []
    },
    "kernelspec": {
      "name": "python3",
      "display_name": "Python 3"
    },
    "language_info": {
      "name": "python"
    }
  },
  "cells": [
    {
      "cell_type": "markdown",
      "source": [
        "## 1. Installing Python Packages"
      ],
      "metadata": {
        "id": "YjB-AXGQA_me"
      }
    },
    {
      "cell_type": "code",
      "execution_count": null,
      "metadata": {
        "id": "V_HM8FdN4DLL"
      },
      "outputs": [],
      "source": [
        "# Install required packages\n",
        "!pip install -q langchain langchain-community python-dotenv\n",
        "!pip install -q langchain-openai chromadb tiktoken"
      ]
    },
    {
      "cell_type": "markdown",
      "source": [
        "## 2. Setup OpenAI Key"
      ],
      "metadata": {
        "id": "605DsanSBNwd"
      }
    },
    {
      "cell_type": "markdown",
      "source": [
        "#### Load the openai api key and set the constants."
      ],
      "metadata": {
        "id": "dVnE8Aco3R0-"
      }
    },
    {
      "cell_type": "code",
      "source": [
        "import os\n",
        "from google.colab import userdata\n",
        "os.environ['OPENAI_API_KEY'] = userdata.get('OPENAI_API_KEY') # You can directly set your keys\n",
        "\n",
        "# Constants\n",
        "LLM = \"gpt-3.5-turbo\"\n",
        "ADV_LLM = \"gpt-4\"\n",
        "LLM_TEMP = 0\n",
        "EMBEDDING_MODEL = \"text-embedding-3-small\""
      ],
      "metadata": {
        "colab": {
          "base_uri": "https://localhost:8080/",
          "height": 17
        },
        "id": "DUWdTB874ZOs",
        "outputId": "75c01fb5-2f6f-4fce-a551-08121aac6914"
      },
      "execution_count": null,
      "outputs": [
        {
          "output_type": "display_data",
          "data": {
            "text/plain": [
              "<IPython.core.display.HTML object>"
            ],
            "text/html": [
              "\n",
              "  <style>\n",
              "    pre {\n",
              "        white-space: pre-wrap;\n",
              "    }\n",
              "  </style>\n",
              "  "
            ]
          },
          "metadata": {}
        }
      ]
    },
    {
      "cell_type": "markdown",
      "source": [
        "## 3. Imports"
      ],
      "metadata": {
        "id": "_JJgYdhAztpK"
      }
    },
    {
      "cell_type": "code",
      "source": [
        "from langchain.text_splitter import RecursiveCharacterTextSplitter\n",
        "from langchain_community.document_loaders import WebBaseLoader\n",
        "from langchain_community.vectorstores import Chroma\n",
        "from langchain_openai import OpenAIEmbeddings\n",
        "from langchain_core.prompts import ChatPromptTemplate, PromptTemplate\n",
        "from langchain_core.output_parsers import StrOutputParser, PydanticOutputParser\n",
        "from pydantic import BaseModel, Field\n",
        "from langchain_openai import ChatOpenAI\n",
        "from typing import List\n",
        "from pydantic import BaseModel, Field"
      ],
      "metadata": {
        "colab": {
          "base_uri": "https://localhost:8080/",
          "height": 34
        },
        "id": "gtNEVLcAzrLw",
        "outputId": "e17b1be3-0862-4b8f-c1f7-ac963f0a5575"
      },
      "execution_count": null,
      "outputs": [
        {
          "output_type": "display_data",
          "data": {
            "text/plain": [
              "<IPython.core.display.HTML object>"
            ],
            "text/html": [
              "\n",
              "  <style>\n",
              "    pre {\n",
              "        white-space: pre-wrap;\n",
              "    }\n",
              "  </style>\n",
              "  "
            ]
          },
          "metadata": {}
        },
        {
          "output_type": "stream",
          "name": "stderr",
          "text": [
            "WARNING:langchain_community.utils.user_agent:USER_AGENT environment variable not set, consider setting it to identify your requests.\n"
          ]
        }
      ]
    },
    {
      "cell_type": "markdown",
      "source": [
        "## 4. Fetch documents from web and create store in vector store"
      ],
      "metadata": {
        "id": "Bas8AVwHBgJ5"
      }
    },
    {
      "cell_type": "markdown",
      "source": [
        "#### This block sets up your searchable knowledge base, converting raw articles into structured vector chunks that can later be searched semantically when a user asks a question."
      ],
      "metadata": {
        "id": "yTyvcnSE3giZ"
      }
    },
    {
      "cell_type": "code",
      "source": [
        "# You can also use \"text-embedding-3-large\" for higher quality\n",
        "embedding_model = OpenAIEmbeddings(model=EMBEDDING_MODEL)\n",
        "# Docs to index\n",
        "urls = [\n",
        "    \"https://curicious.com/5-healthy-foods-to-eat-for-breakfast-for-energy/\",\n",
        "    \"https://curicious.com/fun-facts-about-balanced-diet/\",\n",
        "    \"https://curicious.com/vietnam-travel-guide-for-indian-visitors/\",\n",
        "    \"https://curicious.com/i-thought-electrical-vehicles-are-the-future-but-this-proved-me-wrong/\"\n",
        "]\n",
        "\n",
        "# Load\n",
        "docs = [WebBaseLoader(url).load() for url in urls]\n",
        "docs_list = [item for sublist in docs for item in sublist]\n",
        "\n",
        "# Split\n",
        "text_splitter = RecursiveCharacterTextSplitter.from_tiktoken_encoder(\n",
        "    chunk_size=500, chunk_overlap=0\n",
        ")\n",
        "doc_splits = text_splitter.split_documents(docs_list)\n"
      ],
      "metadata": {
        "colab": {
          "base_uri": "https://localhost:8080/",
          "height": 17
        },
        "id": "qUH14Nme5Bhc",
        "outputId": "a024345b-ffcf-4469-8b09-732739d73501"
      },
      "execution_count": null,
      "outputs": [
        {
          "output_type": "display_data",
          "data": {
            "text/plain": [
              "<IPython.core.display.HTML object>"
            ],
            "text/html": [
              "\n",
              "  <style>\n",
              "    pre {\n",
              "        white-space: pre-wrap;\n",
              "    }\n",
              "  </style>\n",
              "  "
            ]
          },
          "metadata": {}
        }
      ]
    },
    {
      "cell_type": "markdown",
      "source": [
        "### 4.1 Load documents chunks into vector store"
      ],
      "metadata": {
        "id": "AaKc49HPRiBc"
      }
    },
    {
      "cell_type": "code",
      "source": [
        "# Add to vectorstore\n",
        "vectorstore = Chroma.from_documents(\n",
        "    documents=doc_splits,\n",
        "    collection_name=\"rag\",\n",
        "    embedding=embedding_model,\n",
        ")\n",
        "\n",
        "retriever = vectorstore.as_retriever(\n",
        "    search_type=\"similarity\",\n",
        "    search_kwargs={'k': 4},  # number of documents to retrieve\n",
        ")"
      ],
      "metadata": {
        "colab": {
          "base_uri": "https://localhost:8080/",
          "height": 17
        },
        "id": "JSJ4DnzNRr8L",
        "outputId": "06d61f8e-c244-4344-bec7-22d5f09a2451"
      },
      "execution_count": null,
      "outputs": [
        {
          "output_type": "display_data",
          "data": {
            "text/plain": [
              "<IPython.core.display.HTML object>"
            ],
            "text/html": [
              "\n",
              "  <style>\n",
              "    pre {\n",
              "        white-space: pre-wrap;\n",
              "    }\n",
              "  </style>\n",
              "  "
            ]
          },
          "metadata": {}
        }
      ]
    },
    {
      "cell_type": "markdown",
      "source": [
        "## 5. Query & Retrieve Docs"
      ],
      "metadata": {
        "id": "-O-lwXNgBvC0"
      }
    },
    {
      "cell_type": "markdown",
      "source": [
        "#### This code retrieves the most relevant document for the question “What is a healthy breakfast?” using a semantic retriever and prints its title, source, and content. It enables question-aware document lookup from the vector store."
      ],
      "metadata": {
        "id": "hPt3nitU3tSC"
      }
    },
    {
      "cell_type": "code",
      "source": [
        "question = \"What is a healthy breakfast ?\"\n",
        "docs = retriever.invoke(question)\n",
        "print(f\"Title: {docs[0].metadata['title']}\\n\\nSource: {docs[0].metadata['source']}\\n\\nContent: {docs[0].page_content}\\n\")"
      ],
      "metadata": {
        "colab": {
          "base_uri": "https://localhost:8080/",
          "height": 329
        },
        "id": "BeN2mYIz6KgB",
        "outputId": "8a5fb0d5-f815-46f7-c344-73af0b01c5e2"
      },
      "execution_count": null,
      "outputs": [
        {
          "output_type": "display_data",
          "data": {
            "text/plain": [
              "<IPython.core.display.HTML object>"
            ],
            "text/html": [
              "\n",
              "  <style>\n",
              "    pre {\n",
              "        white-space: pre-wrap;\n",
              "    }\n",
              "  </style>\n",
              "  "
            ]
          },
          "metadata": {}
        },
        {
          "output_type": "stream",
          "name": "stdout",
          "text": [
            "Title: 5 Healthy Foods to Eat Breakfast for Energy | Healthy Eating Recipes\n",
            "\n",
            "Source: https://curicious.com/5-healthy-foods-to-eat-for-breakfast-for-energy/\n",
            "\n",
            "Content: you feeling full.Almond butter is high in vitamin E and magnesium.Peanut butter provides abundant protein and potassium.Cashew butter is a good source of iron and zinc.You can make this meal even better with banana slices, chia seeds, or fresh berries. These toppings add nutrition and new flavors. Your breakfast becomes even healthier and more delicious.Adding whole grain toast with nut butters to your mornings is easy and smart. It fits any schedule, whether you’re in a rush or have time to relax. This combo gives you steady energy and many health benefits. It’s one of the best breakfast options for staying healthy.ConclusionStarting your day with the right food is key to success. This article showed you healthy breakfast ideas. Each offers nutrients to get your metabolism going and keep your energy up.Oatmeal, Greek yogurt, and eggs are great choices. They balance taste and health. For those in a rush, smoothies and whole grain toast with nut butter are fast yet filling.These breakfast options have many benefits. They help you avoid feeling tired or hungry by midday. You’ll feel more focused, have steady energy, and improve your overall health.It doesn’t matter if you’re a student, a professional, or just wanting to get healthier. These breakfasts will give you the energy to face your day.I encourage you to try these recipes and make them your own. See mornings as a chance for a fresh, energetic beginning. Let these breakfast ideas fuel your passion for a healthy lifestyle.A good breakfast is the foundation of a healthy life. I invite you to choose these energizing meals. Start every morning recharged and ready for what comes next.FAQQ: Why is it important to choose healthy foods for breakfast?A: Healthy breakfast foods kickstart your day with needed energy and nutrition. They help keep your blood sugar stable and support your brain. Eating proteins, fibers, and healthy fats in the morning keeps you full longer.Q: How does oatmeal contribute to a wholesome breakfast?A: Oatmeal is full of fiber that’s good for your heart and digestion. You can top it with fruits and nuts to make it tastier and more nutritious. It’s great for keeping your blood sugar stable, giving you energy for the day.Q: What are the health benefits of including Greek yogurt in my breakfast?A: Greek yogurt is high in protein, which\n",
            "\n"
          ]
        }
      ]
    },
    {
      "cell_type": "markdown",
      "source": [
        "## 6. Document Relevance Grading - Semantic Level filtering"
      ],
      "metadata": {
        "id": "WTiQEO37CRnv"
      }
    },
    {
      "cell_type": "markdown",
      "source": [
        "#### Vector retrieval is not always accurate, this does semantic post filtering. Poorly matched docs reduce the answer quality, we discard irrelavant ones and only keep the useful context"
      ],
      "metadata": {
        "id": "khp_OoQi2t67"
      }
    },
    {
      "cell_type": "code",
      "source": [
        "# Data model\n",
        "class GradeDocuments(BaseModel):\n",
        "    \"\"\"Binary score for relevance check on retrieved documents.\"\"\"\n",
        "\n",
        "    binary_score: str = Field(\n",
        "        description=\"Documents are relevant to the question, 'yes' or 'no'\"\n",
        "    )\n",
        "\n",
        "\n",
        "# LLM with function call - using OpenAI\n",
        "llm = ChatOpenAI(model=LLM, temperature=LLM_TEMP)\n",
        "structured_llm_grader = llm.with_structured_output(GradeDocuments)\n",
        "\n",
        "# Prompt\n",
        "system =\n",
        "\"\"\"You are a grader assessing relevance of a retrieved document to a user question. \\n\n",
        "If the document contains keyword(s) or semantic meaning related to the user question, grade it as relevant. \\n\n",
        "It does not need to be a stringent test. The goal is to filter out erroneous retrievals. \\n\n",
        "Give a binary score 'yes' or 'no' score to indicate whether the document is relevant to the question.\"\"\"\n",
        "\n",
        "grade_prompt = ChatPromptTemplate.from_messages(\n",
        "    [\n",
        "        (\"system\", system),\n",
        "        (\"human\", \"Retrieved document: \\n\\n {document} \\n\\n User question: {question}\"),\n",
        "    ]\n",
        ")\n",
        "\n",
        "retrieval_grader = grade_prompt | structured_llm_grader"
      ],
      "metadata": {
        "colab": {
          "base_uri": "https://localhost:8080/",
          "height": 17
        },
        "id": "swxEHZgm6ozy",
        "outputId": "735b10fc-03cc-4cb5-8c33-2b855116cd75"
      },
      "execution_count": null,
      "outputs": [
        {
          "output_type": "display_data",
          "data": {
            "text/plain": [
              "<IPython.core.display.HTML object>"
            ],
            "text/html": [
              "\n",
              "  <style>\n",
              "    pre {\n",
              "        white-space: pre-wrap;\n",
              "    }\n",
              "  </style>\n",
              "  "
            ]
          },
          "metadata": {}
        }
      ]
    },
    {
      "cell_type": "markdown",
      "source": [
        "## 7. LLM-Based Grounding"
      ],
      "metadata": {
        "id": "PELo2yx2CkEI"
      }
    },
    {
      "cell_type": "markdown",
      "source": [
        "#### This code filters the retrieved documents by checking their relevance to the question using an LLM-based grader. Only documents with a binary_score of \"yes\" are kept in docs_to_use for further processing."
      ],
      "metadata": {
        "id": "CfDedt2t34BE"
      }
    },
    {
      "cell_type": "code",
      "source": [
        "docs_to_use = []\n",
        "for doc in docs:\n",
        "    print(doc.page_content, '\\n', '-'*50)\n",
        "    res = retrieval_grader.invoke({\"question\": question, \"document\": doc.page_content})\n",
        "    print(res,'\\n')\n",
        "    if res.binary_score == 'yes':\n",
        "        docs_to_use.append(doc)"
      ],
      "metadata": {
        "colab": {
          "base_uri": "https://localhost:8080/",
          "height": 1000
        },
        "id": "7GDyhsgM6s4x",
        "outputId": "9c6105c2-a92d-4a3a-92b0-dafcf278f859"
      },
      "execution_count": null,
      "outputs": [
        {
          "output_type": "display_data",
          "data": {
            "text/plain": [
              "<IPython.core.display.HTML object>"
            ],
            "text/html": [
              "\n",
              "  <style>\n",
              "    pre {\n",
              "        white-space: pre-wrap;\n",
              "    }\n",
              "  </style>\n",
              "  "
            ]
          },
          "metadata": {}
        },
        {
          "output_type": "stream",
          "name": "stdout",
          "text": [
            "you feeling full.Almond butter is high in vitamin E and magnesium.Peanut butter provides abundant protein and potassium.Cashew butter is a good source of iron and zinc.You can make this meal even better with banana slices, chia seeds, or fresh berries. These toppings add nutrition and new flavors. Your breakfast becomes even healthier and more delicious.Adding whole grain toast with nut butters to your mornings is easy and smart. It fits any schedule, whether you’re in a rush or have time to relax. This combo gives you steady energy and many health benefits. It’s one of the best breakfast options for staying healthy.ConclusionStarting your day with the right food is key to success. This article showed you healthy breakfast ideas. Each offers nutrients to get your metabolism going and keep your energy up.Oatmeal, Greek yogurt, and eggs are great choices. They balance taste and health. For those in a rush, smoothies and whole grain toast with nut butter are fast yet filling.These breakfast options have many benefits. They help you avoid feeling tired or hungry by midday. You’ll feel more focused, have steady energy, and improve your overall health.It doesn’t matter if you’re a student, a professional, or just wanting to get healthier. These breakfasts will give you the energy to face your day.I encourage you to try these recipes and make them your own. See mornings as a chance for a fresh, energetic beginning. Let these breakfast ideas fuel your passion for a healthy lifestyle.A good breakfast is the foundation of a healthy life. I invite you to choose these energizing meals. Start every morning recharged and ready for what comes next.FAQQ: Why is it important to choose healthy foods for breakfast?A: Healthy breakfast foods kickstart your day with needed energy and nutrition. They help keep your blood sugar stable and support your brain. Eating proteins, fibers, and healthy fats in the morning keeps you full longer.Q: How does oatmeal contribute to a wholesome breakfast?A: Oatmeal is full of fiber that’s good for your heart and digestion. You can top it with fruits and nuts to make it tastier and more nutritious. It’s great for keeping your blood sugar stable, giving you energy for the day.Q: What are the health benefits of including Greek yogurt in my breakfast?A: Greek yogurt is high in protein, which \n",
            " --------------------------------------------------\n",
            "binary_score='yes' \n",
            "\n",
            "best. I found the best foods for breakfast. They’re not only tasty but also full of the energy I need for my busy day. If you want nutritious breakfast ideas that are simple to make and full of good stuff, you’re in the right place. I’m going to share my top 5 healthy breakfast choices with you. These will help you start your day well and keep your energy up. Try these easy breakfast ideas, and you’ll notice your mornings turning bright and active.Key TakeawaysDiscovering breakfast options that offer a balance of proteins, fibers, and healthy fats.Learning why a nutritious breakfast is pivotal for consistent energy levels throughout the day.Grasping the importance of easy breakfast ideas to fit your up-and-go lifestyle.Identifying the best foods for breakfast that match both nutrition needs and taste preferences.Understanding how making healthy breakfast choices can influence overall well-being.Ensuring your breakfast is as energizing as it is enjoyable with practical food selections.Oatmeal: A Wholesome Start to Your DayAs someone who loves breakfast meal planning, I include oatmeal often. It’s flexible and packed with health perks. This grain is high in fiber, which is great for the heart and feeling full. It has changed my mornings, giving me energy and clear thinking all day.Oatmeal is an essential part of my healthy breakfast ingredients. You can top it with many healthy foods, so it never gets dull. Here are my favorite add-ons to make oatmeal even tastier and healthier:Fresh berries (blueberries, strawberries, raspberries)Chopped nuts (almonds, walnuts, pecans)Seeds (chia seeds, flaxseeds, pumpkin seeds)Natural sweeteners (honey, maple syrup)Spices (cinnamon, nutmeg, cardamom)Adding these not only tastes great but supports a balanced diet. These healthy breakfast ingredients boost your meal’s nutrition. Plus, oatmeal can be made ahead. I often cook a week’s worth and keep it ready in the fridge. This makes mornings easier.Oatmeal’s uses go beyond just toppings. You can make porridge, bars, or even smoothies. It’s perfect for everyone, including busy families and athletes. This flexibility improves your breakfast game.Oatmeal helps manage blood sugar and provides necessary nutrients. Adding it to my daily routine \n",
            " --------------------------------------------------\n",
            "binary_score='yes' \n",
            "\n",
            "is important for your body to repair tissues. It also has probiotics for a healthy gut. It’s easy to make into a tasty, nutritious meal, especially when you’re in a hurry.Q: Why are eggs considered one of the best foods for breakfast?A: Eggs are full of protein and essential nutrients, making them incredibly healthy. They have choline, which is great for your brain. Their versatility in cooking means you can enjoy them in many ways without losing their benefits. This makes eggs a top choice for a healthy morning meal.Q: What makes smoothies an ideal choice for a morning meal?A: Smoothies are quick to make and let you mix many nutritious items like fruits and veggies. They’re a tasty way to get lots of vitamins and minerals fast. Because you can prepare them ahead of time, they fit well into busy mornings ensuring you still get a healthy start.Q: How do whole grain toast and nut butters synergize in a breakfast meal?A: Whole grain toast and nut butters provide energy through fiber and healthy fats. Whole grains are better nutritionally than refined grains. Adding nut butters, such as almond or peanut, adds healthy fats and makes for a delicious, fiber-rich start to your day.Tags: Balanced Breakfast Ingredients, Breakfast Energy Boosters, Energizing Breakfast Ideas, Healthy Breakfast Choices, High-Energy Breakfast Foods, Morning Energy Foods, Nutritious Breakfast Options, Power-Packed Breakfast Foods, Vitality-Boosting Breakfast Items, Wholesome Breakfast SelectionsYoung People Getting Heart Attacks: A Growing ConcernFascinating Racing FactsLeave a Reply Cancel replyYour email address will not be published. Required fields are marked *Fill out this field \n",
            " --------------------------------------------------\n",
            "binary_score='yes' \n",
            "\n",
            "how you cook your eggs, they keep their nutritional value. This lets me enjoy their health benefits alongside other nutritious breakfast ideas.Adding eggs to your morning meal can really improve your health. They give you energy and important nutrients. Try these easy breakfast ideas. You’ll enjoy a nutritious and pleasant start to your day.Smoothies: Customizable and Convenient Morning MealI love smoothies for breakfast meal planning. They mix healthy breakfast ingredients with ease. Let’s dive into making a morning smoothie that’s both full of nutrients and quick to make.Adding fruits, veggies, and proteins makes a balanced meal. Smoothies change to fit your taste or nutritional needs. They can be sweet or fill you up while being good for you.Fruits like bananas and berries add vitamins and sweetness.Spinach or kale brings in fiber and iron without bad taste.Proteins like Greek yogurt support muscle health and keep you full.Nuts or seeds offer healthy fats and a nice crunch.To save time, I prepare ingredients in zip-lock bags and freeze them. Just blend in the morning. It’s quick and keeps nutrients locked in.IngredientNutrients ProvidedBenefitsBerries (Blueberries, Strawberries)Antioxidants, Vitamin C, FiberBoosts immune system, skin health, and digestive healthSpinachIron, Calcium, Vitamins A, C, K1Improves eye health, reduces oxidative stressChia SeedsOmega-3 fatty acids, Fiber, ProteinEnergy boosting, heart health, supports weight lossAlmond MilkCalcium, Vitamin E, Vitamin DLower calories than dairy milk, nutritious, and lactose-freeThese elements change my smoothie into a strong energy source. It balances taste with health, supporting my active life. It keeps breakfast meal planning fun and interesting.Whole Grain Toast with Nut Butters: A Fiber-Rich Power PairingHealthy breakfast choices make a huge difference in your day. Whole grain toast and nut butters are a top pick. They bring great taste and vital nutrients that kickstart your morning. The mix of almond, peanut, and cashew butters with hearty whole grain toast is not just tasty. It’s also good for you.Whole grains are better than refined grains because they energize you slowly. This helps keep your blood sugar stable all morning. Nut butters add important fats and proteins. These help your brain and keep \n",
            " --------------------------------------------------\n",
            "binary_score='yes' \n",
            "\n"
          ]
        }
      ]
    },
    {
      "cell_type": "markdown",
      "source": [
        "## 8. LLM writes grounded answers from trusted sources"
      ],
      "metadata": {
        "id": "UvpcdMAECowt"
      }
    },
    {
      "cell_type": "markdown",
      "source": [
        "#### This code uses an LLM to generate a concise answer to the user's question based on the filtered, relevant documents, formatted as a structured RAG (Retrieval-Augmented Generation) pipeline."
      ],
      "metadata": {
        "id": "UeHYQ1yx4ode"
      }
    },
    {
      "cell_type": "code",
      "source": [
        "# Prompt\n",
        "system = \"\"\"You are an assistant for question-answering tasks. Answer the question based upon your knowledge.\n",
        "Use three-to-five sentences maximum and keep the answer concise.\"\"\"\n",
        "prompt = ChatPromptTemplate.from_messages(\n",
        "    [\n",
        "        (\"system\", system),\n",
        "        (\"human\", \"Retrieved documents: \\n\\n \\\n",
        "        <docs>{documents}</docs> \\n\\n User question: <question>{question}</question>\"),\n",
        "    ]\n",
        ")\n",
        "# LLM - using OpenAI\n",
        "llm = ChatOpenAI(model=LLM, temperature=LLM_TEMP)\n",
        "# Post-processing\n",
        "def format_docs(docs):\n",
        "    return \"\\n\".join(f\"<doc{i+1}>:\\nTitle:{doc.metadata['title']}\\\n",
        "    \\nSource:{doc.metadata['source']}\\nContent:{doc.page_content}\\\n",
        "    \\n</doc{i+1}>\\n\" for i, doc in enumerate(docs))\n",
        "# Chain\n",
        "rag_chain = prompt | llm | StrOutputParser()\n",
        "# Run\n",
        "generation = rag_chain.invoke({\"documents\":format_docs(docs_to_use), \"question\": question})\n",
        "print(generation)"
      ],
      "metadata": {
        "colab": {
          "base_uri": "https://localhost:8080/",
          "height": 69
        },
        "id": "QUjiSbLq65rV",
        "outputId": "e0332199-5699-42d7-940a-0f2c579c2028"
      },
      "execution_count": null,
      "outputs": [
        {
          "output_type": "display_data",
          "data": {
            "text/plain": [
              "<IPython.core.display.HTML object>"
            ],
            "text/html": [
              "\n",
              "  <style>\n",
              "    pre {\n",
              "        white-space: pre-wrap;\n",
              "    }\n",
              "  </style>\n",
              "  "
            ]
          },
          "metadata": {}
        },
        {
          "output_type": "stream",
          "name": "stdout",
          "text": [
            "A healthy breakfast is one that provides a balance of proteins, fibers, and healthy fats to kickstart your day with energy and nutrition. Examples include oatmeal topped with fruits and nuts, Greek yogurt with berries, eggs, smoothies made with fruits, veggies, and proteins, and whole grain toast with nut butters. These options help maintain stable blood sugar levels, keep you full longer, and support overall well-being. A nutritious breakfast is essential for consistent energy levels and improved focus throughout the day.\n"
          ]
        }
      ]
    },
    {
      "cell_type": "markdown",
      "source": [
        "## 9. Hallucination Detection in LLM Answers"
      ],
      "metadata": {
        "id": "lf9avMAkCuoy"
      }
    },
    {
      "cell_type": "markdown",
      "source": [
        "#### This code uses an LLM-based grader to evaluate whether the generated answer is factually grounded in the retrieved documents, returning a simple \"yes\" or \"no\" to flag potential hallucinations."
      ],
      "metadata": {
        "id": "TFZgD_U65SZs"
      }
    },
    {
      "cell_type": "code",
      "source": [
        "class GradeHallucinations(BaseModel):\n",
        "    \"\"\"Binary score for hallucination present in 'generation' answer.\"\"\"\n",
        "    binary_score: str = Field(\n",
        "        ...,\n",
        "        description=\"Answer is grounded in the facts, 'yes' or 'no'\"\n",
        "    )\n",
        "# LLM with function call - using OpenAI\n",
        "llm = ChatOpenAI(model=LLM, temperature=LLM_TEMP)\n",
        "structured_llm_grader = llm.with_structured_output(GradeHallucinations)\n",
        "\n",
        "# Prompt\n",
        "system =\n",
        "\"\"\"You are a grader assessing whether an LLM generation is grounded in / supported by a set of retrieved facts. \\n\n",
        "Give a binary score 'yes' or 'no'. 'Yes' means that the answer is grounded in / supported by the set of facts.\"\"\"\n",
        "\n",
        "hallucination_prompt = ChatPromptTemplate.from_messages(\n",
        "    [\n",
        "        (\"system\", system),\n",
        "        (\"human\", \"Set of facts: \\n\\n <facts>{documents}</facts> \\\n",
        "        \\n\\n LLM generation: <generation>{generation}</generation>\"),\n",
        "    ]\n",
        ")\n",
        "\n",
        "hallucination_grader = hallucination_prompt | structured_llm_grader\n",
        "\n",
        "response = hallucination_grader.invoke({\"documents\": format_docs(docs_to_use), \"generation\": generation})\n",
        "print(response)"
      ],
      "metadata": {
        "colab": {
          "base_uri": "https://localhost:8080/",
          "height": 34
        },
        "id": "-OdCtaJm7FvS",
        "outputId": "950cd799-34b8-4db8-d28a-23bd376d3baf"
      },
      "execution_count": null,
      "outputs": [
        {
          "output_type": "display_data",
          "data": {
            "text/plain": [
              "<IPython.core.display.HTML object>"
            ],
            "text/html": [
              "\n",
              "  <style>\n",
              "    pre {\n",
              "        white-space: pre-wrap;\n",
              "    }\n",
              "  </style>\n",
              "  "
            ]
          },
          "metadata": {}
        },
        {
          "output_type": "stream",
          "name": "stdout",
          "text": [
            "binary_score='yes'\n"
          ]
        }
      ]
    },
    {
      "cell_type": "markdown",
      "source": [
        "## 10. Traceability: Linking Answer Back to Source Segments [Explainability & Groundedness]"
      ],
      "metadata": {
        "id": "NMlEJK0NC2dS"
      }
    },
    {
      "cell_type": "markdown",
      "source": [
        "#### This step uses an advanced LLM (e.g., GPT-4) to extract exact verbatim segments from source documents that were directly used in forming the generated answer — enabling full traceability and explainability."
      ],
      "metadata": {
        "id": "ysboKKYG6Chl"
      }
    },
    {
      "cell_type": "code",
      "source": [
        "\n",
        "# Data model\n",
        "class HighlightDocuments(BaseModel):\n",
        "    \"\"\"Return the specific part of a document used for answering the question.\"\"\"\n",
        "\n",
        "    id: List[str] = Field(\n",
        "        ...,\n",
        "        description=\"List of id of docs used to answers the question\"\n",
        "    )\n",
        "\n",
        "    title: List[str] = Field(\n",
        "        ...,\n",
        "        description=\"List of titles used to answers the question\"\n",
        "    )\n",
        "\n",
        "    source: List[str] = Field(\n",
        "        ...,\n",
        "        description=\"List of sources used to answers the question\"\n",
        "    )\n",
        "\n",
        "    segment: List[str] = Field(\n",
        "        ...,\n",
        "        description=\"List of direct segements from used documents that answers the question\"\n",
        "    )\n",
        "\n",
        "# LLM - using OpenAI\n",
        "llm = ChatOpenAI(model=ADV_LLM, temperature=LLM_TEMP)  # Using GPT-4 for better parsing accuracy\n",
        "\n",
        "# parser\n",
        "parser = PydanticOutputParser(pydantic_object=HighlightDocuments)\n",
        "\n",
        "# Prompt\n",
        "system = \"\"\"You are an advanced assistant for document search and retrieval. You are provided with the following:\n",
        "1. A question.\n",
        "2. A generated answer based on the question.\n",
        "3. A set of documents that were referenced in generating the answer.\n",
        "\n",
        "Your task is to identify and extract the exact inline segments from the provided documents that directly correspond to the content used to\n",
        "generate the given answer.\n",
        "The extracted segments must be verbatim snippets from the documents, ensuring a word-for-word match with the text\n",
        "in the provided documents.\n",
        "\n",
        "Ensure that:\n",
        "- (Important) Each segment is an exact match to a part of the document and is fully contained within the document text.\n",
        "- The relevance of each segment to the generated answer is clear and directly supports the answer provided.\n",
        "- (Important) If you didn't used the specific document don't mention it.\n",
        "\n",
        "Used documents: <docs>{documents}</docs> \\n\\n User question: <question>{question}</question> \\n\\n\n",
        "Generated answer: <answer>{generation}</answer>\n",
        "\n",
        "<format_instruction>\n",
        "{format_instructions}\n",
        "</format_instruction>\n",
        "\"\"\"\n",
        "\n",
        "prompt = PromptTemplate(\n",
        "    template= system,\n",
        "    input_variables=[\"documents\", \"question\", \"generation\"],\n",
        "    partial_variables={\"format_instructions\": parser.get_format_instructions()},\n",
        ")\n",
        "\n",
        "# Chain\n",
        "doc_lookup = prompt | llm | parser\n",
        "\n",
        "# Run\n",
        "lookup_response = doc_lookup.invoke({\"documents\":format_docs(docs_to_use), \"question\": question, \"generation\": generation})"
      ],
      "metadata": {
        "colab": {
          "base_uri": "https://localhost:8080/",
          "height": 17
        },
        "id": "miVxc_VQ7WvX",
        "outputId": "6154fdf4-cb10-4dfb-a61e-714daa7b0f67"
      },
      "execution_count": null,
      "outputs": [
        {
          "output_type": "display_data",
          "data": {
            "text/plain": [
              "<IPython.core.display.HTML object>"
            ],
            "text/html": [
              "\n",
              "  <style>\n",
              "    pre {\n",
              "        white-space: pre-wrap;\n",
              "    }\n",
              "  </style>\n",
              "  "
            ]
          },
          "metadata": {}
        }
      ]
    },
    {
      "cell_type": "markdown",
      "source": [
        "## 11. Final Response"
      ],
      "metadata": {
        "id": "8Go8pfi4DKBX"
      }
    },
    {
      "cell_type": "code",
      "source": [
        "for id, title, source, segment in zip(lookup_response.id, lookup_response.title, \\\n",
        "                                      lookup_response.source, lookup_response.segment):\n",
        "    print(f\"ID: {id}\\nTitle: {title}\\nSource: {source}\\nText Segment: {segment}\\n\")"
      ],
      "metadata": {
        "colab": {
          "base_uri": "https://localhost:8080/",
          "height": 329
        },
        "id": "3LoN3KbB7jua",
        "outputId": "1c4a5345-3dbe-431f-cde7-582cc13a937d"
      },
      "execution_count": null,
      "outputs": [
        {
          "output_type": "display_data",
          "data": {
            "text/plain": [
              "<IPython.core.display.HTML object>"
            ],
            "text/html": [
              "\n",
              "  <style>\n",
              "    pre {\n",
              "        white-space: pre-wrap;\n",
              "    }\n",
              "  </style>\n",
              "  "
            ]
          },
          "metadata": {}
        },
        {
          "output_type": "stream",
          "name": "stdout",
          "text": [
            "ID: doc1\n",
            "Title: 5 Healthy Foods to Eat Breakfast for Energy | Healthy Eating Recipes\n",
            "Source: https://curicious.com/5-healthy-foods-to-eat-for-breakfast-for-energy/\n",
            "Text Segment: Oatmeal, Greek yogurt, and eggs are great choices. They balance taste and health. For those in a rush, smoothies and whole grain toast with nut butter are fast yet filling.\n",
            "\n",
            "ID: doc2\n",
            "Title: 5 Healthy Foods to Eat Breakfast for Energy | Healthy Eating Recipes\n",
            "Source: https://curicious.com/5-healthy-foods-to-eat-for-breakfast-for-energy/\n",
            "Text Segment: Oatmeal: A Wholesome Start to Your DayAs someone who loves breakfast meal planning, I include oatmeal often. It’s flexible and packed with health perks. This grain is high in fiber, which is great for the heart and feeling full. It has changed my mornings, giving me energy and clear thinking all day.\n",
            "\n",
            "ID: doc4\n",
            "Title: 5 Healthy Foods to Eat Breakfast for Energy | Healthy Eating Recipes\n",
            "Source: https://curicious.com/5-healthy-foods-to-eat-for-breakfast-for-energy/\n",
            "Text Segment: Whole Grain Toast with Nut Butters: A Fiber-Rich Power PairingHealthy breakfast choices make a huge difference in your day. Whole grain toast and nut butters are a top pick. They bring great taste and vital nutrients that kickstart your morning.\n",
            "\n"
          ]
        }
      ]
    }
  ]
}